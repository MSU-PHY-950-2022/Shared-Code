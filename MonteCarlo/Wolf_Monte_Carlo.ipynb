{
 "cells": [
  {
   "cell_type": "markdown",
   "id": "desperate-feedback",
   "metadata": {},
   "source": [
    "***Wolves vs Prey***\n",
    "\n",
    "This code is intended to produce a simulation of wolf and prey populations over a specified time series.  The classroom discussion led to the following PRELIMINARY details about the simulation:\n",
    "\n",
    "Here is [an interesting reference](https://www.researchgate.net/publication/239927489_Kill_Rates_and_Predation_by_Wolves_on_Ungulate_Populations_in_Bialowieza_Primeval_Forest_Poland?enrichId=rgreq-644c6d606fbbf71d082d4cbb0ade1da6-XXX&enrichSource=Y292ZXJQYWdlOzIzOTkyNzQ4OTtBUzo5ODg2MTU3NDAwMDY1M0AxNDAwNTgxODQ2ODMz&el=1_x_2&_esc=publicationCoverPdf) for wolf-prey dynamics.\n",
    "\n",
    "**Goal:** Predict wolf and prey population N years beyond initial conditions\n",
    "\n",
    "**Global assumptions:**\n",
    "  * Isolated habitat with no human interactions\n",
    "  * Restricted habitat area, forcing variable density\n",
    "  * Modeling averages over single year periods (time step = 1 year)\n",
    "  * No animal migration\n",
    "\n",
    "  \n",
    "**Input:**\n",
    "  * Initial wolf population, assume equal male/female?  Ages?  Numbers of each.\n",
    "  * Prey population, within limited species (rabbits, deer, moose, ??).\n",
    "  * Animal reproduction rate: 2->N average per year (2->N is a bit arbitrary).  Does this depend on density?\n",
    "  * Wolf predation rate per species (depends on population density?)\n",
    "  * Habitat size (determines densities)\n",
    "  * Weather adversity index (separately for wolves and prey)\n",
    "  * Disease advertity index (separately for wolves and prey)\n",
    "  * Average animal lifetimes\n",
    "\n",
    "  \n",
    "**Model details/assumptions:**\n",
    "  * Require relationships between preditor and prey densities vs predation rate\n",
    "  * Require relationship between prey density and food competition?\n",
    "      * And also weather adversity?\n",
    "      * Or assume general abundance?\n",
    "  * No dependence of predation rate on age?\n",
    "  * Require relationship between weather adversity and animal death rate\n",
    "  * Require relationship between disease adversity and animal death rate\n",
    "  * Require list of animal attributes & their population distribution\n",
    "  * Require means to pass down traits to offspring (eg, hunting skill or reproduction rate)\n",
    "  * Require model for prey density vs preditor survival rate\n",
    "\n",
    "\n",
    "\n",
    "**Model implementation:**\n",
    "  * Define class for a given animal,\n",
    "      * Decorate with required variables to track animal attributes\n",
    "  * Generate arrays of each species type, populated according to initial conditions\n",
    "  * Iterate one year time steps\n",
    "      * Calculate animal densities\n",
    "      * Determine death events, remove dead animals from arrays (dead animals don't reproduce)\n",
    "      * Determine birth events, adding new animals with new attributes drawn from parents\n",
    "      * Repeat until desired future year"
   ]
  },
  {
   "cell_type": "code",
   "execution_count": 1,
   "id": "5831af86",
   "metadata": {},
   "outputs": [],
   "source": [
    "import numpy as np\n",
    "from scipy.stats import weibull_min # import Weibull distribution\n",
    "import matplotlib.pyplot as plt # import plotting\n",
    "import time"
   ]
  },
  {
   "cell_type": "code",
   "execution_count": 2,
   "id": "instrumental-nerve",
   "metadata": {},
   "outputs": [],
   "source": [
    "###################################\n",
    "## Global simulation parameters:\n",
    "## nWolf_init: Initial wolf population size (integer)\n",
    "## nPrey_init: Initial prey population size (integer)\n",
    "## wolf_age_init: Average age of initial wolf population\n",
    "## prey_age_init: Average age of initial prey population\n",
    "##\n",
    "## wolf_repro_rate: Average number of wolf pups per year from an average wolf (integer)\n",
    "## prey_repro_rate: Average number of prey offspring per year from an average animal (integer)\n",
    "##\n",
    "## wolf_pred_rate: Average number of prey animals each wolf consumes per year (integer)\n",
    "## wolf_pred_min: Minimum number of prey animals that a wolf must consume per year to survive (integer)\n",
    "##\n",
    "## wolf_lifetime: Average wolf natural lifetime in years (integer)\n",
    "## prey_lifetime: Average prey natural lifetime in years (integer)\n",
    "##\n",
    "## habitat_size: Size of habitat in square kilometers \n",
    "## weather_idx: Weather & disaster adversity index [0,1]\n",
    "## disease_idx: Disease adversity index [0,1]\n",
    "##\n",
    "## wolf_pop_std: Standard deviation of wolf population \n",
    "###################################\n",
    "\n",
    "\n",
    "## Initial population variables\n",
    "nWolf_init = 10\n",
    "nPrey_init = 1000\n",
    "wolf_age_init = 5\n",
    "prey_age_init = 2\n",
    "\n",
    "## Reproduction rate & lifetime variables\n",
    "wolf_repro_rate = 2  # Average wolf pup rate (average is 4, but we divide by 2 because we don't track gender)\n",
    "prey_repro_rate = 3  # Average prey offspring rate (again, division by 2 baked in)\n",
    "wolf_repro_rate_std = 0.25 # 25% standard deviation on wolf \n",
    "prey_repro_rate_std = 0.25 # 25% standard deviation\n",
    "\n",
    "wolf_lifetime = 15 # This is the theoretical maximum\n",
    "prey_lifetime = 10 # This is the theoretical maximum\n",
    "\n",
    "## Wolf predation variables\n",
    "wolf_pred_rate = 40 # number of prey each wolf consumes each year on average\n",
    "wolf_pred_min = 20 # minimum number of prey a wolf must consume per year to avoid dying of hunger\n",
    "wolf_pred_std = 0.25 # standard deviation of wolf prey consumption, 20%\n",
    "\n",
    "# environment variables\n",
    "habitat_size = 500 # square kilometers\n",
    "weather_idx = 0.5\n",
    "disease_idx = 0.5"
   ]
  },
  {
   "cell_type": "code",
   "execution_count": 3,
   "id": "retained-yahoo",
   "metadata": {},
   "outputs": [],
   "source": [
    "# This is the class that we'll use for an individual wolf.  It can be edited as needed.\n",
    "class wolf:\n",
    "    def __init__(self,age,pred_idx,repro_idx):\n",
    "        self.age = age #This is the age of the wolf, which will increment each year\n",
    "        self.pred_idx = pred_idx #This is an index [0,1] to describe this wolf's predatory skill\n",
    "        self.repro_idx = repro_idx #This is an index [0,1] to describe this wolf's reproduction success rate\n",
    "    \n",
    "    def increaseAge(self): #increment age by one year\n",
    "        self.age = self.age + 1\n",
    "    \n",
    "    def getAge(self): #Get current age of wolf\n",
    "         return self.age\n",
    "        \n",
    "# This is the class that we'll use for an individual prey animal.  It can be edited as needed.\n",
    "class prey:\n",
    "    def __init__(self,age,repro_idx):\n",
    "        self.age = age #This is the age of the prey animal, which will increment each year\n",
    "        self.repro_idx = repro_idx #This is an index [0,1] to describe this animal's reproduction success rate\n",
    "    \n",
    "    def increaseAge(self): #increment age by one year\n",
    "        self.age = self.age + 1\n",
    "    \n",
    "    def getAge(self): #Get current age of prey\n",
    "        return self.age\n"
   ]
  },
  {
   "cell_type": "code",
   "execution_count": 4,
   "id": "august-smile",
   "metadata": {},
   "outputs": [],
   "source": [
    "# These functions will create the initial populations of \n",
    "def initializeWolves(nWolves, avgAge):\n",
    "    # create initial set of randomized wolves: newWolf = wolf(randomAge, randomPidx, randomRidx)\n",
    "    # return array of wolf objects\n",
    "    # set all characteristics to 0.50 randomized by the standard deviation variable above\n",
    "    # should this 0.50 be default for the simulation or driven by a configurable variable?\n",
    "    \n",
    "    # adding one wolf by hand as an example\n",
    "    wolfpack = [wolf(1,0.50,0.50)]\n",
    "    return wolfpack\n",
    "\n",
    "def initializePrey(nPrey, avgAge):\n",
    "    # create initial set of randomized prey: newPrey = prey(randomAge,randomPidx,randomRidx)\n",
    "    # return array of prey objects\n",
    "    # set reproduction rate index to 0.50 randomized by the standard deviation variable above\n",
    "    # should this 0.50 be default for the simulation or driven by a configurable variable?\n",
    "    \n",
    "    # just adding two prey by hand as an example\n",
    "    preyherd = [prey(2,0.50),prey(3,0.50)]\n",
    "    return preyherd\n"
   ]
  },
  {
   "cell_type": "code",
   "execution_count": 20,
   "id": "decimal-browse",
   "metadata": {},
   "outputs": [],
   "source": [
    "# These functions increase and decrease the wolf and prey populations\n",
    "\n",
    "# Death:\n",
    "    # Inputs should be a wolf pack (array of wolves) or prey herd (array of prey)\n",
    "    # Generalize functions for any animal species or should we have specific wolf/prey death functions?\n",
    "    # Return reduced wolf pack and prey herd\n",
    "\n",
    "def starved(wolves_,prey_):\n",
    "    # Check which wolves didn't eat enough\n",
    "    \"\"\"\n",
    "    Function that kills off wolves/prey that have not met their diet quota. \n",
    "    \n",
    "    Inputs:\n",
    "        - wolves_: Array of wolves (wolf instances) \n",
    "        - prey_  : Array of prey   (prey instances)\n",
    "        \n",
    "    Assumptions: \n",
    "        - Prey do not starve \n",
    "        - Predation does not depend on age (i.e. older wolves and young wolves have the same predation rate) \n",
    "        - Wolves need to eat a minimum of 20 prey (all the same species of prey) or they die. \n",
    "        - Assume that the input wolf population is the remaining wolves after disease and weather deaths. \n",
    "    \n",
    "    Variables:\n",
    "        - fWeatherD_W: Fraction of risk for wolves to die due to the weather \n",
    "        - fWeatherD_P: Fraction of risk for prey to die due to the weather\n",
    "        - fDiseaseD_W: Fraction of risk for wolves to die due to the disease\n",
    "        - fDiseaseD_P: Fraction of risk for prey to die due to the disease\n",
    "    \"\"\"\n",
    "    \n",
    "    fWeatherD_W,fWeatherD_P = weatherFrac(wolves_,prey_) \n",
    "    fDiseaseD_W,fDiseaseD_P = diseaseFrac(wolves_,prey_)\n",
    "    \n",
    "    # Reamining prey after disease (assume no weather succeptibility)\n",
    "#     prey_remainingDisease = len(prey_)*(1-*fDiseaseD_P)\n",
    "    prey_remainingDisease = 1\n",
    "    \n",
    "    # Reamining prey after weather (assume no disease succeptibility)\n",
    "    prey_remainingWeather = len(prey_)*(1-fWeatherD_P)\n",
    "    \n",
    "    avg_prey_remaining = (prey_remainingWeather + prey_remainingDisease)/2\n",
    "    \n",
    "    # Not all wolves share (some can eat 50, while some eat 5). To account for this,\n",
    "    # draw from a Gaussian (this is an assumption due to the amount a wolve eats \n",
    "    # does not depend on age). \n",
    "    \n",
    "    # Loop over the wolves we have\n",
    "    prey_temp = allowed_min_wolves\n",
    "    for i,w in enumerate(wolves_):\n",
    "        # Number of prey eaten by each wolf\n",
    "        prey_ate = int(np.randomg.normal(40,0.25))*w.pred_idx\n",
    "        \n",
    "        # The number of prey left\n",
    "        prey_left = prey_temp - prey_ate\n",
    "        \n",
    "        # If the number of prey ate by the wolf is lesss than 20,\n",
    "        # the wolf dies (remove from current wolf population)\n",
    "        if(prey_ate < 20):\n",
    "            del wolves_[i]\n",
    "        \n",
    "        # Deleting the prey eaten from the prey population randomly (uniform)\n",
    "        for j in range(prey_ate):\n",
    "            jj = np.random.uniform(0,prey_ate)\n",
    "            del prey_[jj]\n",
    "        \n",
    "        prey_temp = prey_left\n",
    "        \n",
    "    # Return the updated wolf and prey population \n",
    "    \n",
    "    return wolves_,prey_\n",
    "\n",
    "def NomNom(Pret,Prey):\n",
    "    print(\"start noming ...\")\n",
    "    st = time.time()\n",
    "    \"\"\"\n",
    "    Eating function (get total number eaten [prey] and remove that number of animals) \n",
    "    \n",
    "    Inputs:\n",
    "        - wolves_: Array of wolves (wolf instances) \n",
    "        - prey_  : Array of prey   (prey instances)\n",
    "        \n",
    "    Assumptions: \n",
    "        - Wolves do not get eaten \n",
    "        - Starved wolves have already been eleminated \n",
    "    \n",
    "    \"\"\"\n",
    "    \n",
    "    # assuming wolves eat 20 bunnies each iteration\n",
    "    countBun = 0\n",
    "    \n",
    "    for wolf in Pret:\n",
    "        countBun += 20 # add up the total amount of bunnies will be consumed by the wolves per iteration\n",
    "    \n",
    "    print(\"need to eat \",countBun,\" bunnies\")\n",
    "    size = countBun - np.size(Prey)\n",
    "    \n",
    "    # now randomly remove bunnies\n",
    "    if (size <= 0):\n",
    "        for index, animal in enumerate(Prey):\n",
    "            while countBun > 0:\n",
    "\n",
    "                if (np.size(Prey) < countBun): # Check to see if the bunny pop goes down\n",
    "                    print(\"test\")\n",
    "                    if (np.size(Prey) == 1):\n",
    "                        print(\"Oh no! No more Bunnies!\")\n",
    "                        Prey.pop(0)\n",
    "                        countBun = 0\n",
    "                    if (np.size(Prey) == 0 or np.size(Pret) == 0): # In theory shouldn't get here\n",
    "                        print(\"Oh no! No more Bunnies!\")\n",
    "                        countBun = 0\n",
    "\n",
    "                else:\n",
    "                    num = 0\n",
    "                    while num == 0:\n",
    "                        r = np.random.randint(0,10)\n",
    "                        if r > 3:\n",
    "                            num = 1\n",
    "                            Prey.pop(r)\n",
    "                            countBun = countBun - 1\n",
    "    if(size > 0):\n",
    "        print(\"too many wolves, not enough prey\")\n",
    "        for i in range(np.size(Prey)):\n",
    "            Prey.pop(0)\n",
    "\n",
    "    print(\"done nomnoming\")\n",
    "    et = time.time()\n",
    "    elapsed_time = et - st\n",
    "    print('Execution time:', elapsed_time, 'seconds')\n",
    "    return Pret,Prey\n",
    "\n",
    "def naturalCauses(animals,animal_lifetime,weatherHarm,diseaseHarm):\n",
    "    '''\n",
    "    Given: an array of an animal class, maximum lifetime of species, danger from weather, danger from disease\n",
    "    Calculate:\n",
    "     - Ratio of random number (Weibull distribution) R to specific animal's age. Provides \"resistance\" to weather and disease.\n",
    "         - R / Age < 1 => Animal is in more danger of death from natural causes\n",
    "         - R / Age > 1 => Animal has resistance to danger of death from natural causes\n",
    "     - Fraction of life remaining of animal given maximum lifetime i.e. (max_lifetime - age)/max_lifetime\n",
    "     - Environmental effects sum of individual animal's weather and disease danger\n",
    "     - Total danger of death from natural causes\n",
    "         - ((max_lifetime - age)/max_lifetime) + (R / Age) - environmentalDanger <= 0  => animal dies and is deleted\n",
    "         - ((max_lifetime - age)/max_lifetime) + (R / Age) - environmentalDanger >= 0  => animal survives\n",
    "    '''\n",
    "    #============================================================\n",
    "    # Get random numbers from Weibull distribution\n",
    "    a = 1.75 # shape\n",
    "    n = 6 # Scale\n",
    "    samples = len(animals)\n",
    "    R = weibull_min.rvs(a,loc=0,scale=n,size=samples)\n",
    "    #============================================================\n",
    "    # Weibull distribution Example:\n",
    "    # a, n, samples = 1.75, 6, 100000 # shape, Scale, samples\n",
    "    # s = weibull_min.rvs(a,loc=0,scale=n,size=samples)\n",
    "    # count, bins, ignored = plt.hist(s,50, density=True)\n",
    "    # def weib(x,n,a):\n",
    "    #     return (a / n) * (x / n)**(a - 1) * np.exp(-(x / n)**a)\n",
    "    # x = np.arange(min(bins),max(bins),0.05)\n",
    "    # scale = count.max()/weib(x, n, a).max()\n",
    "    # plt.plot(x, weib(x, n, a)*scale)\n",
    "    # plt.show()\n",
    "    #============================================================\n",
    "    \n",
    "    # Sum the weather and disease Harm for animals\n",
    "    environmentalEffects = (weatherHarm + diseaseHarm) / 2\n",
    "    \n",
    "    for ID, animal in enumerate(animals):\n",
    "        # Calculate danger modifier from random number and animals age\n",
    "        dangerRatio = R[ID] / animal.age\n",
    "        \n",
    "        # Calculate the ratio of life remaining for the animal ranging from [0,1]\n",
    "        lifeRemaining = (animal_lifetime - animal.age)/animal_lifetime\n",
    "        \n",
    "        # Calculate the total danger from death of natural causes\n",
    "        totalDanger = lifeRemaining + dangerRatio - environmentalEffects[ID]\n",
    "        \n",
    "        # If animal's total danger drops at or below zero, kill the animal and remove from array\n",
    "        if totalDanger <= 0:\n",
    "            del animals[ID]\n",
    "    print(\"natural causes adverted\")\n",
    "    return\n",
    "\n",
    "def deathEvent(wolves,prey):\n",
    "    print('this is the end...')\n",
    "    wolfDensity = len(wolves)/habitat_size\n",
    "    preyDensity = len(prey)/habitat_size\n",
    "    # What we need:\n",
    "    # Disease function\n",
    "    def diseaseFrac():\n",
    "        wolfDiseaseIncidence = np.random.random()\n",
    "        preyDiseaseIncidence = np.random.random()\n",
    "        if wolfDiseaseIncidence < disease_idx:\n",
    "            wolfDiseaseFrac = np.tanh(wolfDensity/0.3)      # Fraction of wolves acquiring disease saturates to 1 around a population density of 0.6 wolves/km^2\n",
    "        if preyDiseaseIncidence < disease_idx:\n",
    "            preyDiseaseFrac = np.tanh(preyDensity/1.5)      # Fraction of prey acquiring disease saturates to 1 around a population density of 3 prey/km^2  \n",
    "        return wolfDiseaseFrac, preyDiseaseFrac   \n",
    "\n",
    "    # Weather function:\n",
    "    def weatherFrac(wolves,prey):\n",
    "        weatherIncidence = np.random.random()\n",
    "        if weatherIncidence < weather_idx:\n",
    "            if weather_idx < 0.5:\n",
    "                wolfRisk = np.random.beta(weatherIncidence, 2)\n",
    "                preyRisk = np.random.beta(weatherIncidence, 2)\n",
    "            if weather_idx >= 0.5:\n",
    "                wolfRisk = np.random.beta(2,1-weatherIncidence)\n",
    "                preyfRisk = np.random.beta(2,1-weatherIncidence)\n",
    "        return wolfRisk, preyRisk                           # Fraction of wolves and prey at risk of being killed by the weather\n",
    "    \n",
    "        # (Roy) Starvation function might depend on:\n",
    "            # Disease function (get population density)\n",
    "            # Weather function (affects eating function?)\n",
    "        # (Julia) Eating function (get total number eaten and remove that number of animals) might depend on:\n",
    "            # Disease function (get population density)\n",
    "            # Weather function (affects eating function?)\n",
    "        # (Josh) Natural lifespan function (takes remaining non-eaten function and applies disease and weather chances to kill)\n",
    "            # Disease function (get population density)\n",
    "            # Weather function (affects eating function?)\n",
    "    \n",
    "    mu, sigma = 0.5, 0.125 # mean and standard deviation\n",
    "    wolfWeatherHarm = np.random.normal(mu, sigma, len(wolves))\n",
    "    wolfDiseaseHarm = np.random.normal(mu, sigma, len(wolves))\n",
    "    preyWeatherHarm = np.random.normal(mu, sigma, len(prey))\n",
    "    preyDiseaseHarm = np.random.normal(mu, sigma, len(prey))\n",
    "    # 1) Death events should also be randomly applied to all animals in addition to the prey consumed by wolves\n",
    "    \n",
    "    # 2) First simulate how many prey each wolf consumes, remove wolves that didn't consume enough prey\n",
    "        # The weather adversity index should play a role in the efficiency of wolves catching prey.\n",
    "        # But does the adversity have a greater impact on the wolves or the prey?\n",
    "    \n",
    "    # 3) Next randomly remove prey that were eaten by wolves\n",
    "    \n",
    "    # 4) Natural lifespan with weather and disease\n",
    "        # Should the disease adversity index depend on population density?\n",
    "        # Should the weather and disease adversity indices impact wolves and prey equally?\n",
    "    naturalCauses(wolves,wolf_lifetime,wolfWeatherHarm,wolfDiseaseHarm)\n",
    "    naturalCauses(prey,prey_lifetime,preyWeatherHarm,preyDiseaseHarm)\n",
    "    \n",
    "    _wolves,_prey = NomNom(wolves,prey)\n",
    "    \n",
    "    print(\"done dying lol\")\n",
    "    return\n",
    "\n",
    "def birthEvent(wolves,prey):\n",
    "    # This function should come after the death event, modeling that only healthy and surviving creatures reproduce\n",
    "    # Each individual should have the opportunity to give rise to offspring at a randomized rate.\n",
    "    # The weather adversity index may play a role, perhaps differently for each species of animal.\n",
    "    # New animals should be added to the appropriate arrays with an age of 0.\n",
    "    # New animals should be initialized with characteristics that are randomly drawn from the parent's characteristics\n",
    "    return\n",
    "\n",
    "def incrementAges(wolves,prey):\n",
    "    # This function should just increase the age of all existing animals\n",
    "    for instance in wolves:\n",
    "        instance.increaseAge()\n",
    "        \n",
    "    for instance in prey:\n",
    "        instance.increaseAge()\n",
    "        \n",
    "    return"
   ]
  },
  {
   "cell_type": "code",
   "execution_count": 21,
   "id": "decimal-dollar",
   "metadata": {},
   "outputs": [],
   "source": [
    "def generateExperiment(years):\n",
    "    # create our initial animal arrays\n",
    "    _wolves = initializeWolves(nWolf_init, wolf_age_init)\n",
    "    _prey = initializePrey(nPrey_init, prey_age_init)\n",
    "    \n",
    "    #now iterate on the animals\n",
    "    for i in range(years):\n",
    "        print(\"Simulating year \",i)\n",
    "        incrementAges(_wolves,_prey) # increment ages first so that surviving animals age and new animals have age=0\n",
    "        deathEvent(_wolves,_prey) # some animals die\n",
    "        birthEvent(_wolves,_prey) # new animals born\n",
    "        \n",
    "    \n",
    "    return _wolves, _prey"
   ]
  },
  {
   "cell_type": "code",
   "execution_count": 22,
   "id": "7da5a59d",
   "metadata": {},
   "outputs": [
    {
     "name": "stdout",
     "output_type": "stream",
     "text": [
      "Simulating year  0\n",
      "Wolf population:  8\n",
      "Prey population:  8\n"
     ]
    },
    {
     "data": {
      "image/png": "[encoded data removed]",
      "text/plain": [
       "<Figure size 432x288 with 1 Axes>"
      ]
     },
     "metadata": {
      "needs_background": "light"
     },
     "output_type": "display_data"
    },
    {
     "name": "stdout",
     "output_type": "stream",
     "text": [
      "this is the end...\n",
      "natural causes adverted\n",
      "natural causes adverted\n",
      "start noming ...\n",
      "need to eat  140  bunnies\n",
      "too many wolves, not enough prey\n",
      "done nomnoming\n",
      "Execution time: 0.0006079673767089844 seconds\n",
      "done dying lol\n",
      "Simulating year  1\n",
      "Wolf population:  7\n",
      "Prey population:  0\n"
     ]
    },
    {
     "data": {
      "image/png": "[encoded data removed]",
      "text/plain": [
       "<Figure size 432x288 with 1 Axes>"
      ]
     },
     "metadata": {
      "needs_background": "light"
     },
     "output_type": "display_data"
    },
    {
     "name": "stdout",
     "output_type": "stream",
     "text": [
      "this is the end...\n",
      "natural causes adverted\n",
      "natural causes adverted\n",
      "start noming ...\n",
      "need to eat  140  bunnies\n",
      "too many wolves, not enough prey\n",
      "done nomnoming\n",
      "Execution time: 0.00010824203491210938 seconds\n",
      "done dying lol\n",
      "Simulating year  2\n",
      "Wolf population:  7\n",
      "Prey population:  0\n"
     ]
    },
    {
     "data": {
      "image/png": "[encoded data removed]",
      "text/plain": [
       "<Figure size 432x288 with 1 Axes>"
      ]
     },
     "metadata": {
      "needs_background": "light"
     },
     "output_type": "display_data"
    },
    {
     "name": "stdout",
     "output_type": "stream",
     "text": [
      "this is the end...\n",
      "natural causes adverted\n",
      "natural causes adverted\n",
      "start noming ...\n",
      "need to eat  120  bunnies\n",
      "too many wolves, not enough prey\n",
      "done nomnoming\n",
      "Execution time: 9.703636169433594e-05 seconds\n",
      "done dying lol\n",
      "Simulating year  3\n",
      "Wolf population:  6\n",
      "Prey population:  0\n"
     ]
    },
    {
     "data": {
      "image/png": "[encoded data removed]",
      "text/plain": [
       "<Figure size 432x288 with 1 Axes>"
      ]
     },
     "metadata": {
      "needs_background": "light"
     },
     "output_type": "display_data"
    },
    {
     "name": "stdout",
     "output_type": "stream",
     "text": [
      "this is the end...\n",
      "natural causes adverted\n",
      "natural causes adverted\n",
      "start noming ...\n",
      "need to eat  100  bunnies\n",
      "too many wolves, not enough prey\n",
      "done nomnoming\n",
      "Execution time: 0.00036406517028808594 seconds\n",
      "done dying lol\n",
      "Simulating year  4\n",
      "Wolf population:  5\n",
      "Prey population:  0\n"
     ]
    },
    {
     "data": {
      "image/png": "[encoded data removed]",
      "text/plain": [
       "<Figure size 432x288 with 1 Axes>"
      ]
     },
     "metadata": {
      "needs_background": "light"
     },
     "output_type": "display_data"
    },
    {
     "name": "stdout",
     "output_type": "stream",
     "text": [
      "this is the end...\n",
      "natural causes adverted\n",
      "natural causes adverted\n",
      "start noming ...\n",
      "need to eat  80  bunnies\n",
      "too many wolves, not enough prey\n",
      "done nomnoming\n",
      "Execution time: 0.0003027915954589844 seconds\n",
      "done dying lol\n",
      "Simulating year  5\n",
      "Wolf population:  4\n",
      "Prey population:  0\n"
     ]
    },
    {
     "data": {
      "image/png": "[encoded data removed]",
      "text/plain": [
       "<Figure size 432x288 with 1 Axes>"
      ]
     },
     "metadata": {
      "needs_background": "light"
     },
     "output_type": "display_data"
    },
    {
     "name": "stdout",
     "output_type": "stream",
     "text": [
      "this is the end...\n",
      "natural causes adverted\n",
      "natural causes adverted\n",
      "start noming ...\n",
      "need to eat  60  bunnies\n",
      "too many wolves, not enough prey\n",
      "done nomnoming\n",
      "Execution time: 0.0001270771026611328 seconds\n",
      "done dying lol\n",
      "Simulating year  6\n",
      "Wolf population:  3\n",
      "Prey population:  0\n"
     ]
    },
    {
     "data": {
      "image/png": "[encoded data removed]",
      "text/plain": [
       "<Figure size 432x288 with 1 Axes>"
      ]
     },
     "metadata": {
      "needs_background": "light"
     },
     "output_type": "display_data"
    },
    {
     "name": "stdout",
     "output_type": "stream",
     "text": [
      "this is the end...\n",
      "natural causes adverted\n",
      "natural causes adverted\n",
      "start noming ...\n",
      "need to eat  40  bunnies\n",
      "too many wolves, not enough prey\n",
      "done nomnoming\n",
      "Execution time: 0.00017213821411132812 seconds\n",
      "done dying lol\n",
      "Simulating year  7\n",
      "Wolf population:  2\n",
      "Prey population:  0\n"
     ]
    },
    {
     "data": {
      "image/png": "[encoded data removed]",
      "text/plain": [
       "<Figure size 432x288 with 1 Axes>"
      ]
     },
     "metadata": {
      "needs_background": "light"
     },
     "output_type": "display_data"
    },
    {
     "name": "stdout",
     "output_type": "stream",
     "text": [
      "this is the end...\n",
      "natural causes adverted\n",
      "natural causes adverted\n",
      "start noming ...\n",
      "need to eat  20  bunnies\n",
      "too many wolves, not enough prey\n",
      "done nomnoming\n",
      "Execution time: 0.00015091896057128906 seconds\n",
      "done dying lol\n",
      "Simulating year  8\n",
      "Wolf population:  1\n",
      "Prey population:  0\n"
     ]
    },
    {
     "data": {
      "image/png": "[encoded data removed]",
      "text/plain": [
       "<Figure size 432x288 with 1 Axes>"
      ]
     },
     "metadata": {
      "needs_background": "light"
     },
     "output_type": "display_data"
    },
    {
     "name": "stdout",
     "output_type": "stream",
     "text": [
      "this is the end...\n",
      "natural causes adverted\n",
      "natural causes adverted\n",
      "start noming ...\n",
      "need to eat  0  bunnies\n",
      "done nomnoming\n",
      "Execution time: 5.412101745605469e-05 seconds\n",
      "done dying lol\n",
      "Simulating year  9\n",
      "Wolf population:  0\n",
      "Prey population:  0\n"
     ]
    },
    {
     "data": {
      "image/png": "[encoded data removed]",
      "text/plain": [
       "<Figure size 432x288 with 1 Axes>"
      ]
     },
     "metadata": {
      "needs_background": "light"
     },
     "output_type": "display_data"
    },
    {
     "name": "stdout",
     "output_type": "stream",
     "text": [
      "this is the end...\n",
      "natural causes adverted\n",
      "natural causes adverted\n",
      "start noming ...\n",
      "need to eat  0  bunnies\n",
      "done nomnoming\n",
      "Execution time: 0.00013208389282226562 seconds\n",
      "done dying lol\n",
      "Simulating year  10\n",
      "Wolf population:  0\n",
      "Prey population:  0\n"
     ]
    },
    {
     "data": {
      "image/png": "[encoded data removed]",
      "text/plain": [
       "<Figure size 432x288 with 1 Axes>"
      ]
     },
     "metadata": {
      "needs_background": "light"
     },
     "output_type": "display_data"
    },
    {
     "name": "stdout",
     "output_type": "stream",
     "text": [
      "this is the end...\n",
      "natural causes adverted\n",
      "natural causes adverted\n",
      "start noming ...\n",
      "need to eat  0  bunnies\n",
      "done nomnoming\n",
      "Execution time: 6.699562072753906e-05 seconds\n",
      "done dying lol\n",
      "Simulating year  11\n",
      "Wolf population:  0\n",
      "Prey population:  0\n"
     ]
    },
    {
     "data": {
      "image/png": "[encoded data removed]",
      "text/plain": [
       "<Figure size 432x288 with 1 Axes>"
      ]
     },
     "metadata": {
      "needs_background": "light"
     },
     "output_type": "display_data"
    },
    {
     "name": "stdout",
     "output_type": "stream",
     "text": [
      "this is the end...\n",
      "natural causes adverted\n",
      "natural causes adverted\n",
      "start noming ...\n",
      "need to eat  0  bunnies\n",
      "done nomnoming\n",
      "Execution time: 0.00015115737915039062 seconds\n",
      "done dying lol\n",
      "Simulating year  12\n",
      "Wolf population:  0\n",
      "Prey population:  0\n"
     ]
    },
    {
     "data": {
      "image/png": "[encoded data removed]",
      "text/plain": [
       "<Figure size 432x288 with 1 Axes>"
      ]
     },
     "metadata": {
      "needs_background": "light"
     },
     "output_type": "display_data"
    },
    {
     "name": "stdout",
     "output_type": "stream",
     "text": [
      "this is the end...\n",
      "natural causes adverted\n",
      "natural causes adverted\n",
      "start noming ...\n",
      "need to eat  0  bunnies\n",
      "done nomnoming\n",
      "Execution time: 5.817413330078125e-05 seconds\n",
      "done dying lol\n",
      "Simulating year  13\n",
      "Wolf population:  0\n",
      "Prey population:  0\n"
     ]
    },
    {
     "data": {
      "image/png": "[encoded data removed]",
      "text/plain": [
       "<Figure size 432x288 with 1 Axes>"
      ]
     },
     "metadata": {
      "needs_background": "light"
     },
     "output_type": "display_data"
    },
    {
     "name": "stdout",
     "output_type": "stream",
     "text": [
      "this is the end...\n",
      "natural causes adverted\n",
      "natural causes adverted\n",
      "start noming ...\n",
      "need to eat  0  bunnies\n",
      "done nomnoming\n",
      "Execution time: 0.00017786026000976562 seconds\n",
      "done dying lol\n",
      "Simulating year  14\n",
      "Wolf population:  0\n",
      "Prey population:  0\n"
     ]
    },
    {
     "data": {
      "image/png": "[encoded data removed]",
      "text/plain": [
       "<Figure size 432x288 with 1 Axes>"
      ]
     },
     "metadata": {
      "needs_background": "light"
     },
     "output_type": "display_data"
    },
    {
     "name": "stdout",
     "output_type": "stream",
     "text": [
      "this is the end...\n",
      "natural causes adverted\n",
      "natural causes adverted\n",
      "start noming ...\n",
      "need to eat  0  bunnies\n",
      "done nomnoming\n",
      "Execution time: 4.601478576660156e-05 seconds\n",
      "done dying lol\n"
     ]
    }
   ],
   "source": [
    "# Test cell for death functions\n",
    "\n",
    "# create our initial animal arrays\n",
    "_wolves = [wolf(1,0.50,0.50),wolf(12,0.50,0.50),wolf(6,0.50,0.50),wolf(3,0.50,0.50),\n",
    "           wolf(1,0.50,0.50),wolf(12,0.50,0.50),wolf(6,0.50,0.50),wolf(3,0.50,0.50)]\n",
    "\n",
    "_prey = [prey(1,0.50),prey(8,0.50),prey(0,0.50),prey(3,0.50),\n",
    "         prey(1,0.50),prey(8,0.50),prey(0,0.50),prey(3,0.50)]\n",
    "\n",
    "years = 15\n",
    "#now iterate on the animals\n",
    "for i in range(years):\n",
    "    print(\"Simulating year \",i)\n",
    "    print(\"Wolf population: \",len(_wolves))\n",
    "    print(\"Prey population: \",len(_prey))\n",
    "    \n",
    "#     for ID, w in enumerate(_wolves):\n",
    "#         print('Wolf ',ID,' age: ',w.age)\n",
    "#     for ID, p in enumerate(_prey):\n",
    "#         print('Prey ',ID,' age: ',p.age)\n",
    "    wolfAges = [w.age for w in _wolves]\n",
    "    preyAges = [p.age for p in _prey]\n",
    "    \n",
    "    count, bins, ignored = plt.hist(wolfAges,4, density=True,label='wolves')\n",
    "    count, bins, ignored = plt.hist(preyAges,4, density=True,label='prey')\n",
    "    plt.legend()\n",
    "    plt.xlim(0,15)\n",
    "    plt.xlabel('age')\n",
    "    plt.show()\n",
    "\n",
    "    incrementAges(_wolves,_prey) # increment ages first so that surviving animals age and new animals have age=0\n",
    "    deathEvent(_wolves,_prey) # some animals die\n",
    "    birthEvent(_wolves,_prey) # new animals born"
   ]
  },
  {
   "cell_type": "code",
   "execution_count": null,
   "id": "healthy-still",
   "metadata": {},
   "outputs": [],
   "source": [
    "wolfpack, preyherd = generateExperiment(5)"
   ]
  },
  {
   "cell_type": "code",
   "execution_count": null,
   "id": "durable-court",
   "metadata": {},
   "outputs": [],
   "source": [
    "print(\"Wolf population: \",len(wolfpack))\n",
    "print(\"Prey population: \",len(preyherd))\n",
    "\n",
    "print(\"Wolf 0 age: \",wolfpack[0].age)\n",
    "print(\"Prey 0 age: \",preyherd[0].age)"
   ]
  },
  {
   "cell_type": "code",
   "execution_count": null,
   "id": "d2ea377f",
   "metadata": {},
   "outputs": [],
   "source": []
  }
 ],
 "metadata": {
  "kernelspec": {
   "display_name": "Python 3 (ipykernel)",
   "language": "python",
   "name": "python3"
  },
  "language_info": {
   "codemirror_mode": {
    "name": "ipython",
    "version": 3
   },
   "file_extension": ".py",
   "mimetype": "text/x-python",
   "name": "python",
   "nbconvert_exporter": "python",
   "pygments_lexer": "ipython3",
   "version": "3.7.1"
  }
 },
 "nbformat": 4,
 "nbformat_minor": 5
}
