{
 "cells": [
  {
   "cell_type": "code",
   "execution_count": 2,
   "metadata": {},
   "outputs": [],
   "source": [
    "###################################\n",
    "## Global simulation parameters:\n",
    "## nWolf_init: Initial wolf population size (integer)\n",
    "## nPrey_init: Initial prey population size (integer)\n",
    "## wolf_age_init: Average age of initial wolf population\n",
    "## prey_age_init: Average age of initial prey population\n",
    "##\n",
    "## wolf_repro_rate: Average number of wolf pups per year from an average wolf (integer)\n",
    "## prey_repro_rate: Average number of prey offspring per year from an average animal (integer)\n",
    "##\n",
    "## wolf_pred_rate: Average number of prey animals each wolf consumes per year (integer)\n",
    "## wolf_pred_min: Minimum number of prey animals that a wolf must consume per year to survive (integer)\n",
    "##\n",
    "## wolf_lifetime: Average wolf natural lifetime in years (integer)\n",
    "## prey_lifetime: Average prey natural lifetime in years (integer)\n",
    "##\n",
    "## habitat_size: Size of habitat in square kilometers \n",
    "## weather_idx: Weather & disaster adversity index [0,1]\n",
    "## disease_idx: Disease adversity index [0,1]\n",
    "##\n",
    "## wolf_pop_std: Standard deviation of wolf population \n",
    "###################################\n",
    "\n",
    "## Initial population variables\n",
    "nWolf_init = 10\n",
    "nPrey_init = 1000\n",
    "wolf_age_init = 5\n",
    "prey_age_init = 2\n",
    "\n",
    "## Reproduction rate & lifetime variables\n",
    "wolf_repro_rate = 2  # Average wolf pup rate (average is 4, but we divide by 2 because we don't track gender)\n",
    "prey_repro_rate = 3  # Average prey offspring rate (again, division by 2 baked in)\n",
    "wolf_repro_rate_std = 0.25 # 25% standard deviation on wolf \n",
    "prey_repro_rate_std = 0.25 # 25% standard deviation\n",
    "\n",
    "wolf_lifetime = 15 # This is the theoretical maximum\n",
    "prey_lifetime = 10 # This is the theoretical maximum\n",
    "\n",
    "## Wolf predation variables\n",
    "wolf_pred_rate = 40 # number of prey each wolf consumes each year on average\n",
    "wolf_pred_min = 20 # minimum number of prey a wolf must consume per year to avoid dying of hunger\n",
    "wolf_pred_std = 0.25 # standard deviation of wolf prey consumption, 20%\n",
    "\n",
    "# environment variables\n",
    "habitat_size = 500 # square kilometers\n",
    "weather_idx = 0.5 \n",
    "disease_idx = 0.5"
   ]
  },
  {
   "cell_type": "code",
   "execution_count": 3,
   "metadata": {},
   "outputs": [],
   "source": [
    "# This is the class that we'll use for an individual wolf.  It can be edited as needed.\n",
    "class wolf:\n",
    "    def __init__(self,age,pred_idx,repro_idx):\n",
    "        self.age = age #This is the age of the wolf, which will increment each year\n",
    "        self.pred_idx = pred_idx #This is an index [0,1] to describe this wolf's predatory skill\n",
    "        self.repro_idx = repro_idx #This is an index [0,1] to describe this wolf's reproduction success rate\n",
    "    \n",
    "    def increaseAge(self): #increment age by one year\n",
    "        self.age = self.age + 1\n",
    "        \n",
    "# This is the class that we'll use for an individual prey animal.  It can be edited as needed.\n",
    "class prey:\n",
    "    def __init__(self,age,repro_idx):\n",
    "        self.age = age #This is the age of the prey animal, which will increment each year\n",
    "        self.repro_idx = repro_idx #This is an index [0,1] to describe this animal's reproduction success rate\n",
    "    \n",
    "    def increaseAge(self): #increment age by one year\n",
    "        self.age = self.age + 1"
   ]
  },
  {
   "cell_type": "code",
   "execution_count": 12,
   "metadata": {},
   "outputs": [],
   "source": [
    "import numpy as np\n",
    "\n",
    "# These functions will create the initial populations of wolves and prey.\n",
    "def initializeWolves(nWolves, avgAge):\n",
    "    \n",
    "    # Create initial set of randomized wolves: newWolf = wolf(randomAge, randomPidx, randomRidx)\n",
    "    # Return array of wolf objects\n",
    "    # Set all characteristics to 0.50 randomized by the standard deviation variable above\n",
    "    # Should this 0.50 be default for the simulation or driven by a configurable variable?\n",
    "        # The wolf predator index could be driven by hunting efficiency (determined by the wolf's age, pack size, etc.)\n",
    "        # The wolf reproduction index can be left at 0.5 default or varied by a random factor of sterility/fertility.\n",
    "        # (Lotka-Volterra Model: Predator \"birth\" rate treated as the efficiency of turning eaten prey into new predators.)\n",
    "    \n",
    "    wolfpack = []\n",
    "    \n",
    "    for i in range(0, nWolf_init):\n",
    "        \n",
    "        # Age of the wolf: \n",
    "        randomAge = np.random.randint(wolf_age_init, wolf_lifetime) \n",
    "        \n",
    "        # Index [0,1] to describe this wolf's predatory skill:\n",
    "        randomPidx = np.random.normal(0.5, wolf_pred_std) \n",
    "        \n",
    "         # Index [0,1] to describe this wolf's reproduction rate:\n",
    "        randomRidx = np.random.normal(0.5, wolf_repro_rate_std)\n",
    "        \n",
    "        newWolf = wolf(randomAge, randomPidx, randomRidx)\n",
    "        \n",
    "        wolfpack.append(newWolf)\n",
    "    \n",
    "    # adding one wolf by hand as an example\n",
    "    # wolfpack = [wolf(1,0.50,0.50)]\n",
    "    \n",
    "    return wolfpack\n",
    "\n",
    "#def initializePrey(nPrey, avgAge):\n",
    "    # create initial set of randomized prey: newPrey = prey(randomAge,randomPidx,randomRidx)\n",
    "    # return array of prey objects\n",
    "    # set reproduction rate index to 0.50 randomized by the standard deviation variable above\n",
    "    # should this 0.50 be default for the simulation or driven by a configurable variable?\n",
    "    \n",
    "    # just adding two prey by hand as an example\n",
    "#    preyherd = [prey(2,0.50),prey(3,0.50)]\n",
    "#    return preyherd"
   ]
  },
  {
   "cell_type": "code",
   "execution_count": 5,
   "metadata": {},
   "outputs": [],
   "source": [
    "# These functions increase and decrease the wolf and prey populations\n",
    "\n",
    "def deathEvent(wolves,prey):\n",
    "    # First simulate how many prey each wolf consumes, remove wolves that didn't consume enough prey\n",
    "    # Next randomly remove prey that were eaten by wolves\n",
    "    # The weather adversity index should play a role in the efficiency of wolves catching prey.\n",
    "    # But does the adversity have a greater impact on the wolves or the prey?\n",
    "    #\n",
    "    # Death events should also be randomly applied to all animals in addition to the prey consumed by wolves\n",
    "    # As an animal reaches its maximim lifetime, the chances of randomly dying should increase.\n",
    "    # The random chance should include the weather and disease adversity indices.\n",
    "    # Should the disease adversity index depend on population density?\n",
    "    # Should the weather and disease adversity indices impact wolves and prey equally?\n",
    "    return\n",
    "\n",
    "def birthEvent(wolves,prey):\n",
    "    # This function should come after the death event, modeling that only healthy and surviving creatures reproduce\n",
    "    # Each individual should have the opportunity to give rise to offspring at a randomized rate.\n",
    "    # The weather adversity index may play a role, perhaps differently for each species of animal.\n",
    "    # New animals should be added to the appropriate arrays with an age of 0.\n",
    "    # New animals should be initialized with characteristics that are randomly drawn from the parent's characteristics\n",
    "    return\n",
    "\n",
    "def incrementAges(wolves,prey):\n",
    "    # This function should just increase the age of all existing animals\n",
    "    for instance in wolves:\n",
    "        instance.increaseAge()\n",
    "        \n",
    "    for instance in prey:\n",
    "        instance.increaseAge()\n",
    "        \n",
    "    return"
   ]
  },
  {
   "cell_type": "code",
   "execution_count": 6,
   "metadata": {},
   "outputs": [],
   "source": [
    "def generateExperiment(years):\n",
    "    # create our initial animal arrays\n",
    "    _wolves = initializeWolves(nWolf_init, wolf_age_init)\n",
    "    _prey = initializePrey(nPrey_init, prey_age_init)\n",
    "    \n",
    "    #now iterate on the animals\n",
    "    for i in range(years):\n",
    "        print(\"Simulating year \",i)\n",
    "        incrementAges(_wolves,_prey) # increment ages first so that surviving animals age and new animals have age=0\n",
    "        deathEvent(_wolves,_prey) # some animals die\n",
    "        birthEvent(_wolves,_prey) # new animals born\n",
    "    \n",
    "    return _wolves, _prey"
   ]
  },
  {
   "cell_type": "code",
   "execution_count": 7,
   "metadata": {},
   "outputs": [
    {
     "name": "stdout",
     "output_type": "stream",
     "text": [
      "Simulating year  0\n",
      "Simulating year  1\n",
      "Simulating year  2\n",
      "Simulating year  3\n",
      "Simulating year  4\n"
     ]
    }
   ],
   "source": [
    "wolfpack, preyherd = generateExperiment(5)"
   ]
  },
  {
   "cell_type": "code",
   "execution_count": 8,
   "metadata": {},
   "outputs": [
    {
     "name": "stdout",
     "output_type": "stream",
     "text": [
      "Wolf population:  1\n",
      "Prey population:  2\n",
      "Wolf 0 age:  6\n",
      "Prey 0 age:  7\n"
     ]
    }
   ],
   "source": [
    "print(\"Wolf population: \",len(wolfpack))\n",
    "print(\"Prey population: \",len(preyherd))\n",
    "\n",
    "print(\"Wolf 0 age: \",wolfpack[0].age)\n",
    "print(\"Prey 0 age: \",preyherd[0].age)"
   ]
  },
  {
   "cell_type": "code",
   "execution_count": null,
   "metadata": {},
   "outputs": [],
   "source": []
  }
 ],
 "metadata": {
  "kernelspec": {
   "display_name": "Python 3",
   "language": "python",
   "name": "python3"
  },
  "language_info": {
   "codemirror_mode": {
    "name": "ipython",
    "version": 3
   },
   "file_extension": ".py",
   "mimetype": "text/x-python",
   "name": "python",
   "nbconvert_exporter": "python",
   "pygments_lexer": "ipython3",
   "version": "3.7.6"
  }
 },
 "nbformat": 4,
 "nbformat_minor": 4
}
